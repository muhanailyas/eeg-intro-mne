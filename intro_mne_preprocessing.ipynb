# Cell 1: Load data
import mne
sample_data = mne.datasets.sample.data_path()
raw_file = sample_data + '/MEG/sample/sample_audvis_raw.fif'
raw = mne.io.read_raw_fif(raw_file, preload=True)
raw.pick_types(meg=False, eeg=True)

# Cell 2: Filtering
raw.filter(1, 40)

# Cell 3: Epoching
events = mne.find_events(raw, stim_channel='STI 014')
event_id = {'auditory/left': 1, 'visual/left': 3}
epochs = mne.Epochs(raw, events, event_id, tmin=-0.1, tmax=0.3, preload=True)
epochs = epochs.pick_types(eeg=True)

# Cell 4: PSD Plot
epochs.plot_psd(fmin=1, fmax=40)

# Cell 5: Scalp map
evoked = epochs['auditory/left'].average()
evoked.plot_topomap(times=[0.1])
